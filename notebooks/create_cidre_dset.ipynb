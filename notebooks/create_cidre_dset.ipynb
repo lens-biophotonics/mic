{
 "cells": [
  {
   "cell_type": "markdown",
   "metadata": {},
   "source": [
    "### 2D frame dataset generation for CIDRE-based retrospective flat/dark-field model estimation\n",
    "\n",
    "Run the cells below to extract a suitable dataset of 2D images from the 3D microscopy image stacks included in *source*.\n",
    "Frames exported to *outdir* will satisfy the following inclusion criteria:\n",
    "* relative number of black background pixels (*black_rel_thr*)\n",
    "* mean intensity relative to maximum (*mean_rel_thr*)"
   ]
  },
  {
   "cell_type": "code",
   "execution_count": null,
   "metadata": {},
   "outputs": [],
   "source": [
    "import numpy as np\n",
    "import random\n",
    "import tifffile as tiff\n",
    "\n",
    "from os import listdir, mkdir, path, walk\n"
   ]
  },
  {
   "cell_type": "markdown",
   "metadata": {},
   "source": [
    "##### I/O image paths"
   ]
  },
  {
   "cell_type": "code",
   "execution_count": null,
   "metadata": {},
   "outputs": [],
   "source": [
    "# path to TIFF z-stacks\n",
    "# NOTE: to be adapted...\n",
    "source = 'path/to/input'\n",
    "outdir = 'path/to/output'\n"
   ]
  },
  {
   "cell_type": "markdown",
   "metadata": {},
   "source": [
    "##### Inclusion criteria"
   ]
  },
  {
   "cell_type": "code",
   "execution_count": 3,
   "metadata": {},
   "outputs": [],
   "source": [
    "# inclusion/exclusion criteria\n",
    "bg_lvl = 0\n",
    "bg_rel_thr = 0.5\n",
    "mean_rel_thr = 0.005\n",
    "\n",
    "# maximum output dataset size [B]\n",
    "max_dset_size = 50e9\n"
   ]
  },
  {
   "cell_type": "markdown",
   "metadata": {},
   "source": [
    "##### Evaluate I/O directory content"
   ]
  },
  {
   "cell_type": "code",
   "execution_count": 4,
   "metadata": {},
   "outputs": [],
   "source": [
    "# get current number of 2D frames in outdir\n",
    "if not(path.isdir(outdir)):\n",
    "    num_slc = 1\n",
    "    mkdir(outdir)\n",
    "else:\n",
    "    num_slc = len([name for name in listdir(outdir) if path.isfile(path.join(outdir, name))]) + 1\n",
    "\n",
    "# get all z-stacks file paths in source\n",
    "stack_lst = []\n",
    "for (dir, _, fnames) in walk(source):\n",
    "    stack_lst += [path.join(dir, f) for f in fnames]\n",
    "random.shuffle(stack_lst)\n"
   ]
  },
  {
   "cell_type": "markdown",
   "metadata": {},
   "source": [
    "##### Export 2D frames imposing the required inclusion criteria"
   ]
  },
  {
   "cell_type": "code",
   "execution_count": null,
   "metadata": {},
   "outputs": [],
   "source": [
    "\"\"\"\n",
    "TODO: generalize again to RGB and grayscale image stacks!!!\n",
    "\"\"\"\n",
    "\n",
    "ds_size = 0\n",
    "num_out = 1\n",
    "num_stk = len(stack_lst)\n",
    "\n",
    "for f in stack_lst:\n",
    "    prc_progress = 100 * (num_out / num_stk)\n",
    "    print('\\nProcessing image stack {0}/{1}\\t\\t{2:0.1f}%'.format(num_out, num_stk, prc_progress), end='\\r')\n",
    "\n",
    "    # read image stack\n",
    "    img = tiff.imread(f)\n",
    "    img_max = np.iinfo(img.dtype).max\n",
    "\n",
    "    # loop over z-slices\n",
    "    for z in range(img.shape[0]):\n",
    "\n",
    "        # check criteria and save \"valid\" z-slice to TIFF\n",
    "        if ds_size < max_dset_size:\n",
    "            slc = img[z, :, :]\n",
    "            if np.count_nonzero(slc > bg_lvl) / np.size(slc) > bg_rel_thr \\\n",
    "                and np.mean(slc[slc != 0]) > mean_rel_thr * img_max:\n",
    "\n",
    "                tiff.imwrite(path.join(outdir, f'{num_slc}.tiff'), slc)\n",
    "\n",
    "                # update total dataset size and slice counter\n",
    "                ds_size += slc.itemsize * slc.size\n",
    "                num_slc += 1\n",
    "        \n",
    "        \"\"\"      \n",
    "        # break if all channels reached max size\n",
    "        if np.all(ds_size) >= max_dset_size:\n",
    "            break\n",
    "        \"\"\" \n",
    "\n",
    "    # increase processed stack counter\n",
    "    num_out += 1\n",
    "\n",
    "# print exported dataset information\n",
    "print(f\"\\n\\nCIDRE dataset size: {num_slc} images\\t({1e-9*ds_size:2.1f}GB)\")\n"
   ]
  }
 ],
 "metadata": {
  "kernelspec": {
   "display_name": ".venv",
   "language": "python",
   "name": "python3"
  },
  "language_info": {
   "codemirror_mode": {
    "name": "ipython",
    "version": 3
   },
   "file_extension": ".py",
   "mimetype": "text/x-python",
   "name": "python",
   "nbconvert_exporter": "python",
   "pygments_lexer": "ipython3",
   "version": "3.10.4"
  }
 },
 "nbformat": 4,
 "nbformat_minor": 2
}
