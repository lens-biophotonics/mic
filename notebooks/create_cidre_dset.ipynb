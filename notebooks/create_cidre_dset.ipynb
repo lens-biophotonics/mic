{
 "cells": [
  {
   "cell_type": "markdown",
   "metadata": {},
   "source": [
    "### 2D frame dataset generation for CIDRE-based retrospective flat/dark-field model estimation\n",
    "\n",
    "Run the cells below to extract a suitable dataset of 2D images from the 3D microscopy image stacks included in *source*.\n",
    "Frames exported to *outdir* will satisfy the following inclusion criteria:\n",
    "* *bg_lvl* (approximate) dark background intensity\n",
    "* *bg_rel_thr*  relative number of sub-threshold (*bg_lvl*) background pixels  \n",
    "* *mean_rel_thr*  mean intensity relative to data type maximum"
   ]
  },
  {
   "cell_type": "code",
   "execution_count": null,
   "metadata": {},
   "outputs": [],
   "source": [
    "import numpy as np\n",
    "import random\n",
    "import tifffile as tiff\n",
    "\n",
    "from math import ceil\n",
    "\n",
    "from pathlib import Path\n"
   ]
  },
  {
   "cell_type": "markdown",
   "metadata": {},
   "source": [
    "##### I/O image paths"
   ]
  },
  {
   "cell_type": "code",
   "execution_count": null,
   "metadata": {},
   "outputs": [],
   "source": [
    "# path to TIFF z-stacks\n",
    "# NOTE: to be adapted...\n",
    "slc = 4\n",
    "source = f'/mnt/olimpo1/NIH/DANDI/000026/rawdata_biolab/I48/20210726_I48_{slc}_LeftDet_638_RightDet_561/tiff_left/rotated'\n",
    "outdir = f'/mnt/NASoneScratch/michele/mic_dset/broca_638nm_I48_S{slc}'\n",
    "\n",
    "# channel axis for RGB z-stacks (ch_ax = 1 when True, ch_ax = 3 otherwise)\n",
    "ch_first = True\n",
    "\n",
    "# objective name and fluorescence emission wavelength [nm]\n",
    "obj = 'lsfm_lavision12x_dskwd'\n",
    "wv = 638\n",
    "\n",
    "# input formats\n",
    "formats = [\"_l.ome.tif\"]\n"
   ]
  },
  {
   "cell_type": "markdown",
   "metadata": {},
   "source": [
    "##### Export options"
   ]
  },
  {
   "cell_type": "code",
   "execution_count": null,
   "metadata": {},
   "outputs": [],
   "source": [
    "# inclusion/exclusion criteria\n",
    "bg_lvl = 150\n",
    "bg_rel_thr = 0.333\n",
    "mean_rel_thr = 0.005\n",
    "\n",
    "# maximum output size [B]\n",
    "max_dset_size = 100e9\n",
    "\n",
    "# minimum z-stride between exported frames [μm]\n",
    "z_strd_um = 18\n",
    "px_sz_z = 3.6\n"
   ]
  },
  {
   "cell_type": "markdown",
   "metadata": {},
   "source": [
    "##### Evaluate I/O directory content"
   ]
  },
  {
   "cell_type": "code",
   "execution_count": null,
   "metadata": {},
   "outputs": [],
   "source": [
    "source = Path(source)\n",
    "outdir = Path(outdir)\n",
    "\n",
    "\n",
    "if not isinstance(wv, tuple) and not isinstance(wv, list):\n",
    "    wv = (wv,)\n",
    "\n",
    "ch_ax = 0 if ch_first else 2\n",
    "\n",
    "# get current number of 2D frames in outdir\n",
    "outdir = Path(outdir)\n",
    "for c, w in enumerate(wv):\n",
    "    if w != -1:\n",
    "        wavedir = outdir / obj / str(w)\n",
    "        if not (wavedir).is_dir():\n",
    "            wavedir.mkdir(parents=True, exist_ok=True)\n",
    "\n",
    "# get all z-stacks file paths in source\n",
    "stack_lst = []\n",
    "source = Path(source)  # Ensure source is a Path object\n",
    "for dirpath in source.glob('*'):\n",
    "    if dirpath.is_file() and any(str(dirpath).lower().endswith(fmt) for fmt in formats):\n",
    "        stack_lst.append(dirpath)\n",
    "\n",
    "random.shuffle(stack_lst)\n",
    "\n",
    "print(f\"Output directory path\\n{outdir}\\n\\nProcessed image stacks\")\n",
    "for s in stack_lst:\n",
    "    print(s)\n"
   ]
  },
  {
   "cell_type": "markdown",
   "metadata": {},
   "source": [
    "##### Export 2D frames imposing the required inclusion criteria"
   ]
  },
  {
   "cell_type": "code",
   "execution_count": null,
   "metadata": {},
   "outputs": [],
   "source": [
    "ds_size = np.zeros((len(wv),))\n",
    "num_slc = np.zeros((len(wv),), dtype=int)\n",
    "num_out = 1\n",
    "num_stk = len(stack_lst)\n",
    "\n",
    "z_strd = ceil(z_strd_um / px_sz_z)\n",
    "\n",
    "for f in stack_lst:\n",
    "    prc_progress = 100 * (num_out / num_stk)\n",
    "    print('\\nProcessing image stack {0}/{1}\\t{2:0.1f}%'.format(num_out, num_stk, prc_progress), end='\\r')\n",
    "\n",
    "    # read image stack\n",
    "    img = tiff.imread(f)\n",
    "    img_max = np.iinfo(img.dtype).max\n",
    "\n",
    "    # loop over z-slices\n",
    "    for z in range(0, img.shape[0], z_strd):\n",
    "        \n",
    "        # read single frame\n",
    "        slc = img[z, ...]\n",
    "\n",
    "        # add channel axis when missing\n",
    "        if slc.ndim == 2:\n",
    "            slc = slc[np.newaxis, ...] if ch_first else slc[..., np.newaxis]\n",
    "\n",
    "        # loop over channels\n",
    "        for c in range(slc.shape[ch_ax]):           \n",
    "            if wv[c] > 0:\n",
    "\n",
    "                # check criteria and save \"valid\" z-slice to TIFF\n",
    "                slc = slc[c, :, :] if ch_first else slc[..., c]\n",
    "                if np.count_nonzero(slc > bg_lvl) / np.size(slc) > bg_rel_thr \\\n",
    "                    and np.mean(slc[slc != 0]) > mean_rel_thr * img_max:\n",
    "\n",
    "                    tiff.imwrite(outdir / obj / str(wv[c]) / f'{num_slc[c]}.tiff', slc, compression='zlib')\n",
    "\n",
    "                    # update total dataset size and slice counter\n",
    "                    ds_size[c] += slc.itemsize * slc.size\n",
    "                    num_slc[c] += 1\n",
    "    \n",
    "                # break if all channels reached max size\n",
    "                if np.all(ds_size) >= max_dset_size:\n",
    "                    break\n",
    "\n",
    "    # increase processed stack counter\n",
    "    num_out += 1\n",
    "\n",
    "# print exported dataset information\n",
    "print(f\"\\n\\nExported data size  (objective: {obj})\")\n",
    "for c, w in enumerate(wv):\n",
    "    if w != -1:\n",
    "        print(f\"- {w} nm: {num_slc[c]} images ({1e-6*np.sum(ds_size[c]):2.1f}MB)\")\n"
   ]
  }
 ],
 "metadata": {
  "kernelspec": {
   "display_name": "mic_venv",
   "language": "python",
   "name": "python3"
  },
  "language_info": {
   "codemirror_mode": {
    "name": "ipython",
    "version": 3
   },
   "file_extension": ".py",
   "mimetype": "text/x-python",
   "name": "python",
   "nbconvert_exporter": "python",
   "pygments_lexer": "ipython3",
   "version": "3.12.9"
  }
 },
 "nbformat": 4,
 "nbformat_minor": 2
}
