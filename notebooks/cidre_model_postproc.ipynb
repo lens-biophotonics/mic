{
 "cells": [
  {
   "cell_type": "code",
   "execution_count": null,
   "metadata": {},
   "outputs": [],
   "source": [
    "import numpy as np\n",
    "import tifffile as tiff\n",
    "\n",
    "import matplotlib.pyplot as plt\n",
    "from pathlib import Path\n",
    "\n",
    "\n",
    "source = Path(r'C:/Users/miche/Documents/MATLAB/LENS Projects/Vignetting/CIDRE')\n",
    "outdir = Path('C:/Users/miche/Desktop/HBP/Tools/mic/models/lsfm_lavision12x_dskwd')\n",
    "\n",
    "\n",
    "# emission wavelength [nm]\n",
    "sample = 'I48'\n",
    "wl = 638\n",
    "view = 'l'\n",
    "\n",
    "# Broca's area slice ID\n",
    "slc = 36\n"
   ]
  },
  {
   "cell_type": "markdown",
   "metadata": {},
   "source": [
    "**View flat-field model**"
   ]
  },
  {
   "cell_type": "code",
   "execution_count": null,
   "metadata": {},
   "outputs": [],
   "source": [
    "import scipy.io\n",
    "import matplotlib.ticker as ticker\n",
    "\n",
    "\n",
    "v = scipy.io.loadmat(source / f'v_dspim_S{slc}.mat')['v']\n",
    "z = scipy.io.loadmat(source / f'z_dspim_S{slc}.mat')['z']\n",
    "\n",
    "orig_shape = v.shape\n",
    "print(f\"Original flat-field model shape: {orig_shape}\")\n",
    "\n",
    "if orig_shape[0] > orig_shape[1]:\n",
    "    v = np.swapaxes(v, 0, 1)\n",
    "    z = np.swapaxes(z, 0, 1)\n",
    "    \n",
    "\n",
    "fig, ax = plt.subplots(figsize=(12, 4))\n",
    "ax.imshow(v)\n",
    "ax.set_aspect('auto')\n",
    "ax.set_yticks([])\n",
    "ax.minorticks_on()\n",
    "ax.xaxis.set_major_locator(ticker.MultipleLocator(1000))  # Major ticks every 1000\n",
    "ax.xaxis.set_minor_locator(ticker.MultipleLocator(500))   # Minor ticks every 500\n",
    "plt.show()\n"
   ]
  },
  {
   "cell_type": "markdown",
   "metadata": {},
   "source": [
    "**Manual crop by visual inspection**"
   ]
  },
  {
   "cell_type": "code",
   "execution_count": null,
   "metadata": {},
   "outputs": [],
   "source": [
    "crop_s = 750\n",
    "crop_e = 8750\n",
    "\n",
    "v = v[:, crop_s:crop_e]\n",
    "z = z[:, crop_s:crop_e]\n",
    "\n",
    "fig, ax = plt.subplots(figsize=(12, 4))\n",
    "ax.imshow(v)\n",
    "ax.set_aspect('auto')\n",
    "ax.set_yticks([])\n",
    "ax.minorticks_on()\n",
    "ax.xaxis.set_major_locator(ticker.MultipleLocator(1000))  # Major ticks every 1000\n",
    "ax.xaxis.set_minor_locator(ticker.MultipleLocator(500))   # Minor ticks every 500\n",
    "plt.show()\n"
   ]
  },
  {
   "cell_type": "markdown",
   "metadata": {},
   "source": [
    "**Average and replicate along horizontal x-axis**"
   ]
  },
  {
   "cell_type": "code",
   "execution_count": null,
   "metadata": {},
   "outputs": [],
   "source": [
    "v = np.repeat(np.mean(v, axis=1)[:, np.newaxis], np.max(orig_shape), axis=1)\n",
    "z = np.repeat(np.mean(z, axis=1)[:, np.newaxis], np.max(orig_shape), axis=1)\n",
    "\n",
    "fig, ax = plt.subplots(figsize=(12, 4))\n",
    "ax.imshow(v)\n",
    "ax.set_aspect('auto')\n",
    "ax.set_yticks([])\n",
    "ax.minorticks_on()\n",
    "ax.xaxis.set_major_locator(ticker.MultipleLocator(1000))  # Major ticks every 1000\n",
    "ax.xaxis.set_minor_locator(ticker.MultipleLocator(500))   # Minor ticks every 500\n",
    "plt.show()\n",
    "\n",
    "\n",
    "if orig_shape[0] > orig_shape[1]:\n",
    "    v = np.swapaxes(v, 0, 1)\n",
    "    z = np.swapaxes(z, 0, 1)\n",
    "\n",
    "print(f\"Output flat-field model shape: {v.shape}\")\n",
    "\n",
    "save_dir = outdir / f'{wl}_{sample}_S{slc}'\n",
    "if not save_dir.exists():\n",
    "    save_dir.mkdir(parents=True, exist_ok=True)\n",
    "    \n",
    "tiff.imwrite(save_dir / 'v.tif', v, compression='zlib')\n",
    "tiff.imwrite(save_dir / 'z.tif', z, compression='zlib')\n"
   ]
  }
 ],
 "metadata": {
  "kernelspec": {
   "display_name": "mic_venv",
   "language": "python",
   "name": "python3"
  },
  "language_info": {
   "codemirror_mode": {
    "name": "ipython",
    "version": 3
   },
   "file_extension": ".py",
   "mimetype": "text/x-python",
   "name": "python",
   "nbconvert_exporter": "python",
   "pygments_lexer": "ipython3",
   "version": "3.12.9"
  }
 },
 "nbformat": 4,
 "nbformat_minor": 2
}
